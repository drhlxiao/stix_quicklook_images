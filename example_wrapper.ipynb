{
 "cells": [
  {
   "cell_type": "markdown",
   "id": "c8cc0c9b-02f0-42d1-ad51-01da6ea13e78",
   "metadata": {},
   "source": [
    "# Import statements"
   ]
  },
  {
   "cell_type": "code",
   "execution_count": 1,
   "id": "c9f04987-8a19-4e65-a910-4d194be0c525",
   "metadata": {},
   "outputs": [],
   "source": [
    "import stix_quicklook\n",
    "\n",
    "import os\n",
    "import matplotlib.pyplot as plt\n",
    "import astropy.units as u"
   ]
  },
  {
   "cell_type": "markdown",
   "id": "8d701f6d-010c-47d7-8678-6eeaccb7acfd",
   "metadata": {},
   "source": [
    "# Define parameters"
   ]
  },
  {
   "cell_type": "code",
   "execution_count": 2,
   "id": "07effcd5-dc7a-4196-b45a-23f4fc5cbd4f",
   "metadata": {},
   "outputs": [],
   "source": [
    "folder = '/Users/admin/Documents/GitHub/stix_quicklook_images/'\n",
    "\n",
    "flaring_data_L1A_fits_filename = folder + '/data/solo_L1A_stix-sci-xray-l1-2105070034_20210507T184238-20210507T190900_031037_V01.fits'\n",
    "background_L1A_fits_filename   = folder + '/data/solo_L1A_stix-sci-xray-l1-2105080012_20210508T020005-20210508T034005_030902_V01.fits'\n",
    "flare_start_UTC                = '2021-05-07T18:51:00.000'\n",
    "flare_end_UTC                  = '2021-05-07T18:53:40.000'\n",
    "energy_range_science_channel_lower_limit = 6\n",
    "energy_range_science_channel_upper_limit = 10\n",
    "spice_kernel_path = '/Users/admin/Documents/GitHub/solar-orbiter/kernels/mk/' # Solar Orbiter SPICE kernel path\n",
    "\n",
    "outfolder = folder + '/STIX maps/'\n",
    "if not(os.path.exists(outfolder)):\n",
    "        os.mkdir(outfolder)\n",
    "vis_fwdfit_map_filename = outfolder + '/stx_vis_fwdfit_map_070521T1851.fits'\n",
    "bp_map_filename = outfolder + '/stx_bp_map_070521T1851.fits'\n",
    "\n",
    "ssw_home = '/Users/admin/ssw'  # Insert path of the SSW folder\n",
    "idl_home = '/Applications/harris/idl88' # Insert path of IDL installation folder\n",
    "stx_quicklook_fwdfit_path = folder # path of the folder containing ''"
   ]
  },
  {
   "cell_type": "markdown",
   "id": "95fbbd22-3fce-40b5-8df6-a0e13c7026bb",
   "metadata": {},
   "source": [
    "# Run code"
   ]
  },
  {
   "cell_type": "code",
   "execution_count": 3,
   "id": "75b5b851-855a-4b1d-afbe-8c9f2e9d0d38",
   "metadata": {},
   "outputs": [
    {
     "name": "stdout",
     "output_type": "stream",
     "text": [
      "\n",
      "SPICE kernels loaded correctly\n",
      "\n",
      "Out of memory\n",
      "SOHO_DATA: Undefined variable.\n",
      "sswidl: Command not found.\n",
      "\n",
      "\n"
     ]
    },
    {
     "ename": "FileNotFoundError",
     "evalue": "[Errno 2] No such file or directory: '/var/folders/0p/v51sc4rx4v5__b3lkhrp_c480000gn/T/tmp2g421aiz/idl_vars_20220405-153150.sav'",
     "output_type": "error",
     "traceback": [
      "\u001b[0;31m---------------------------------------------------------------------------\u001b[0m",
      "\u001b[0;31mFileNotFoundError\u001b[0m                         Traceback (most recent call last)",
      "\u001b[0;32m/var/folders/0p/v51sc4rx4v5__b3lkhrp_c480000gn/T/ipykernel_50065/3399563163.py\u001b[0m in \u001b[0;36m<module>\u001b[0;34m\u001b[0m\n\u001b[1;32m     10\u001b[0m     \u001b[0mssw_home\u001b[0m\u001b[0;34m,\u001b[0m\u001b[0;34m\u001b[0m\u001b[0;34m\u001b[0m\u001b[0m\n\u001b[1;32m     11\u001b[0m     \u001b[0midl_home\u001b[0m\u001b[0;34m,\u001b[0m\u001b[0;34m\u001b[0m\u001b[0;34m\u001b[0m\u001b[0m\n\u001b[0;32m---> 12\u001b[0;31m     stx_quicklook_fwdfit_path)\n\u001b[0m",
      "\u001b[0;32m~/Documents/GitHub/stix_quicklook_images/stix_quicklook.py\u001b[0m in \u001b[0;36mstix_flare_image_reconstruction\u001b[0;34m(background_L1A_fits_filename, flaring_data_L1A_fits_filename, flare_start_UTC, flare_end_UTC, energy_range_science_channel_upper_limit, energy_range_science_channel_lower_limit, spice_kernel_path, vis_fwdfit_map_filename, bp_map_filename, ssw_home, idl_home, stx_quicklook_fwdfit_path)\u001b[0m\n\u001b[1;32m    301\u001b[0m     \u001b[0mssw\u001b[0m \u001b[0;34m=\u001b[0m \u001b[0mhissw\u001b[0m\u001b[0;34m.\u001b[0m\u001b[0mEnvironment\u001b[0m\u001b[0;34m(\u001b[0m\u001b[0mssw_home\u001b[0m\u001b[0;34m=\u001b[0m\u001b[0mssw_home\u001b[0m\u001b[0;34m,\u001b[0m\u001b[0midl_home\u001b[0m\u001b[0;34m=\u001b[0m\u001b[0midl_home\u001b[0m\u001b[0;34m,\u001b[0m\u001b[0mssw_packages\u001b[0m\u001b[0;34m=\u001b[0m\u001b[0;34m[\u001b[0m\u001b[0;34m'stix'\u001b[0m\u001b[0;34m]\u001b[0m\u001b[0;34m)\u001b[0m\u001b[0;34m\u001b[0m\u001b[0;34m\u001b[0m\u001b[0m\n\u001b[1;32m    302\u001b[0m     \u001b[0;31m# Run SSWIDL and the procedure 'stx_quicklook_fwdfit.pro'\u001b[0m\u001b[0;34m\u001b[0m\u001b[0;34m\u001b[0m\u001b[0;34m\u001b[0m\u001b[0m\n\u001b[0;32m--> 303\u001b[0;31m     \u001b[0mssw_resp\u001b[0m \u001b[0;34m=\u001b[0m \u001b[0mssw\u001b[0m\u001b[0;34m.\u001b[0m\u001b[0mrun\u001b[0m\u001b[0;34m(\u001b[0m\u001b[0mstx_quicklook_fwdfit_path\u001b[0m \u001b[0;34m+\u001b[0m \u001b[0;34m'stx_quicklook_fwdfit.pro'\u001b[0m\u001b[0;34m,\u001b[0m \u001b[0margs\u001b[0m\u001b[0;34m=\u001b[0m\u001b[0minputs\u001b[0m\u001b[0;34m)\u001b[0m\u001b[0;34m\u001b[0m\u001b[0;34m\u001b[0m\u001b[0m\n\u001b[0m\u001b[1;32m    304\u001b[0m \u001b[0;34m\u001b[0m\u001b[0m\n\u001b[1;32m    305\u001b[0m \u001b[0;34m\u001b[0m\u001b[0m\n",
      "\u001b[0;32m~/opt/anaconda3/envs/aia_env/lib/python3.7/site-packages/hissw/environment.py\u001b[0m in \u001b[0;36mrun\u001b[0;34m(self, script, args, save_vars, verbose)\u001b[0m\n\u001b[1;32m    134\u001b[0m                                         stdout=subprocess.PIPE)\n\u001b[1;32m    135\u001b[0m             \u001b[0mself\u001b[0m\u001b[0;34m.\u001b[0m\u001b[0m_check_for_errors\u001b[0m\u001b[0;34m(\u001b[0m\u001b[0mcmd_output\u001b[0m\u001b[0;34m,\u001b[0m \u001b[0mverbose\u001b[0m\u001b[0;34m)\u001b[0m\u001b[0;34m\u001b[0m\u001b[0;34m\u001b[0m\u001b[0m\n\u001b[0;32m--> 136\u001b[0;31m             \u001b[0mresults\u001b[0m \u001b[0;34m=\u001b[0m \u001b[0mreadsav\u001b[0m\u001b[0;34m(\u001b[0m\u001b[0msave_filename\u001b[0m\u001b[0;34m)\u001b[0m\u001b[0;34m\u001b[0m\u001b[0;34m\u001b[0m\u001b[0m\n\u001b[0m\u001b[1;32m    137\u001b[0m \u001b[0;34m\u001b[0m\u001b[0m\n\u001b[1;32m    138\u001b[0m         \u001b[0;32mreturn\u001b[0m \u001b[0mresults\u001b[0m\u001b[0;34m\u001b[0m\u001b[0;34m\u001b[0m\u001b[0m\n",
      "\u001b[0;32m~/opt/anaconda3/envs/aia_env/lib/python3.7/site-packages/scipy/io/idl.py\u001b[0m in \u001b[0;36mreadsav\u001b[0;34m(file_name, idict, python_dict, uncompressed_file_name, verbose)\u001b[0m\n\u001b[1;32m    736\u001b[0m \u001b[0;34m\u001b[0m\u001b[0m\n\u001b[1;32m    737\u001b[0m     \u001b[0;31m# Open the IDL file\u001b[0m\u001b[0;34m\u001b[0m\u001b[0;34m\u001b[0m\u001b[0;34m\u001b[0m\u001b[0m\n\u001b[0;32m--> 738\u001b[0;31m     \u001b[0mf\u001b[0m \u001b[0;34m=\u001b[0m \u001b[0mopen\u001b[0m\u001b[0;34m(\u001b[0m\u001b[0mfile_name\u001b[0m\u001b[0;34m,\u001b[0m \u001b[0;34m'rb'\u001b[0m\u001b[0;34m)\u001b[0m\u001b[0;34m\u001b[0m\u001b[0;34m\u001b[0m\u001b[0m\n\u001b[0m\u001b[1;32m    739\u001b[0m \u001b[0;34m\u001b[0m\u001b[0m\n\u001b[1;32m    740\u001b[0m     \u001b[0;31m# Read the signature, which should be 'SR'\u001b[0m\u001b[0;34m\u001b[0m\u001b[0;34m\u001b[0m\u001b[0;34m\u001b[0m\u001b[0m\n",
      "\u001b[0;31mFileNotFoundError\u001b[0m: [Errno 2] No such file or directory: '/var/folders/0p/v51sc4rx4v5__b3lkhrp_c480000gn/T/tmp2g421aiz/idl_vars_20220405-153150.sav'"
     ]
    }
   ],
   "source": [
    "stix_quicklook.stix_flare_image_reconstruction(\n",
    "    background_L1A_fits_filename,\n",
    "    flaring_data_L1A_fits_filename,\n",
    "    flare_start_UTC,flare_end_UTC,\n",
    "    energy_range_science_channel_upper_limit,\n",
    "    energy_range_science_channel_lower_limit,\n",
    "    spice_kernel_path,\n",
    "    vis_fwdfit_map_filename,\n",
    "    bp_map_filename,\n",
    "    ssw_home,\n",
    "    idl_home,\n",
    "    stx_quicklook_fwdfit_path)"
   ]
  },
  {
   "cell_type": "markdown",
   "id": "461a8e74-161c-4ee1-9304-0e6e77f32f07",
   "metadata": {},
   "source": [
    "# Plot map"
   ]
  },
  {
   "cell_type": "code",
   "execution_count": null,
   "id": "a8767ae2-29c1-471e-885e-33fe21c56ea4",
   "metadata": {},
   "outputs": [],
   "source": [
    "stix_quicklook.load_SOLO_SPICE(spice_kernel_path)\n",
    "\n",
    "# Center of the STIX image (arcsec)\n",
    "center_stix_arcsec = [384, 308]\n",
    "\n",
    "# Convert the input FITS to a Sunpy Solar Map structure\n",
    "stx_vis_fwdfit_map = stix_quicklook.create_STIX_map(vis_fwdfit_map_filename, flare_start_UTC, \n",
    "                                                    center_stix_arcsec, \"VIS_FWDFIT_PSO\")\n",
    "center_stix_arcsec = [0., 0.]\n",
    "stx_bp_map = stix_quicklook.create_STIX_map(bp_map_filename, flare_start_UTC, \n",
    "                                            center_stix_arcsec, \"Back Projection\")"
   ]
  },
  {
   "cell_type": "code",
   "execution_count": null,
   "id": "6fc392ed-8506-4b17-b7f0-f7f0f93116ae",
   "metadata": {},
   "outputs": [],
   "source": [
    "# Plot the MAPS\n",
    "str_title = str(stx_vis_fwdfit_map.meta['date-obs'])\n",
    "fig = plt.figure(figsize=(13, 5), dpi=100, facecolor='white')\n",
    "\n",
    "ax_fwdfit = fig.add_subplot(121, projection=stx_vis_fwdfit_map)\n",
    "stx_vis_fwdfit_map.plot(vmin=0., \n",
    "                        cmap='gist_ncar',#'sdoaia'+str(np.int(aia_map.meta['wavelnth'])), \n",
    "                        axes=ax_fwdfit, title=False)\n",
    "stx_vis_fwdfit_map.draw_grid(color='k', ls='--', grid_spacing=10*u.deg)\n",
    "\n",
    "ax_bp = fig.add_subplot(122, projection=stx_bp_map)\n",
    "stx_bp_map.plot(vmin=0., \n",
    "                cmap='gist_ncar',#'sdoaia'+str(np.int(aia_map.meta['wavelnth'])), \n",
    "                axes=ax_bp, title=False)\n",
    "stx_bp_map.draw_grid(color='k', ls='--', grid_spacing=10*u.deg)\n",
    "\n",
    "plt.suptitle(str_title)\n",
    "plt.show()"
   ]
  },
  {
   "cell_type": "code",
   "execution_count": null,
   "id": "30faea7a",
   "metadata": {},
   "outputs": [],
   "source": []
  }
 ],
 "metadata": {
  "kernelspec": {
   "display_name": "Python 3 (ipykernel)",
   "language": "python",
   "name": "python3"
  },
  "language_info": {
   "codemirror_mode": {
    "name": "ipython",
    "version": 3
   },
   "file_extension": ".py",
   "mimetype": "text/x-python",
   "name": "python",
   "nbconvert_exporter": "python",
   "pygments_lexer": "ipython3",
   "version": "3.9.7"
  }
 },
 "nbformat": 4,
 "nbformat_minor": 5
}
